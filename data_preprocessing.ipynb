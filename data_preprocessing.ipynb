{
 "cells": [
  {
   "cell_type": "code",
   "execution_count": 185,
   "id": "a7475824",
   "metadata": {},
   "outputs": [],
   "source": [
    "import numpy as np\n",
    "import pandas as pd\n",
    "import matplotlib.pyplot as plt\n",
    "\n",
    "import string\n",
    "import pickle\n",
    "import nltk\n",
    "\n",
    "from nltk.stem import WordNetLemmatizer\n",
    "\n",
    "\n",
    "\n",
    "\n",
    "# pip install textblob\n",
    "#nltk.download('words')"
   ]
  },
  {
   "cell_type": "code",
   "execution_count": 186,
   "id": "e189d85e",
   "metadata": {},
   "outputs": [],
   "source": [
    "data_set_1= pd.read_json('recipes_raw_nosource_ar.json', orient='index')\n",
    "data_set_2 = pd.read_json('recipes_raw_nosource_epi.json', orient = 'index')\n",
    "data_set_3 = pd.read_json('recipes_raw_nosource_fn.json', orient='index')"
   ]
  },
  {
   "cell_type": "code",
   "execution_count": 187,
   "id": "04a1734a",
   "metadata": {},
   "outputs": [],
   "source": [
    "recipe_data = pd.concat([data_set_1, data_set_2, data_set_3])"
   ]
  },
  {
   "cell_type": "code",
   "execution_count": 188,
   "id": "ad2f66c0",
   "metadata": {},
   "outputs": [],
   "source": [
    "recipe_data.dropna(inplace=True)"
   ]
  },
  {
   "cell_type": "code",
   "execution_count": 189,
   "id": "b3ff7835",
   "metadata": {},
   "outputs": [
    {
     "data": {
      "text/html": [
       "<div>\n",
       "<style scoped>\n",
       "    .dataframe tbody tr th:only-of-type {\n",
       "        vertical-align: middle;\n",
       "    }\n",
       "\n",
       "    .dataframe tbody tr th {\n",
       "        vertical-align: top;\n",
       "    }\n",
       "\n",
       "    .dataframe thead th {\n",
       "        text-align: right;\n",
       "    }\n",
       "</style>\n",
       "<table border=\"1\" class=\"dataframe\">\n",
       "  <thead>\n",
       "    <tr style=\"text-align: right;\">\n",
       "      <th></th>\n",
       "      <th>index</th>\n",
       "      <th>picture_link</th>\n",
       "      <th>title</th>\n",
       "      <th>ingredients</th>\n",
       "      <th>instructions</th>\n",
       "    </tr>\n",
       "  </thead>\n",
       "  <tbody>\n",
       "    <tr>\n",
       "      <th>0</th>\n",
       "      <td>5ZpZE8hSVdPk2ZXo1mZTyoPWJRSCPSm</td>\n",
       "      <td>QyrvGdGNMBA2lDdciY0FjKu.77MM0Oe</td>\n",
       "      <td>Awesome Slow Cooker Pot Roast</td>\n",
       "      <td>[2 (10.75 ounce) cans condensed cream of mushr...</td>\n",
       "      <td>In a slow cooker, mix cream of mushroom soup, ...</td>\n",
       "    </tr>\n",
       "    <tr>\n",
       "      <th>1</th>\n",
       "      <td>clyYQv.CplpwJtjNaFGhx0VilNYqRxu</td>\n",
       "      <td>LVW1DI0vtlCrpAhNSEQysE9i/7rJG56</td>\n",
       "      <td>Brown Sugar Meatloaf</td>\n",
       "      <td>[1/2 cup packed brown sugar ADVERTISEMENT, 1/2...</td>\n",
       "      <td>Preheat oven to 350 degrees F (175 degrees C)....</td>\n",
       "    </tr>\n",
       "    <tr>\n",
       "      <th>2</th>\n",
       "      <td>BmqFAmCrDHiKNwX.IQzb0U/v0mLlxFu</td>\n",
       "      <td>0SO5kdWOV94j6EfAVwMMYRM3yNN8eRi</td>\n",
       "      <td>Best Chocolate Chip Cookies</td>\n",
       "      <td>[1 cup butter, softened ADVERTISEMENT, 1 cup w...</td>\n",
       "      <td>Preheat oven to 350 degrees F (175 degrees C)....</td>\n",
       "    </tr>\n",
       "    <tr>\n",
       "      <th>3</th>\n",
       "      <td>N.jCksRjB4MFwbgPFQU8Kg.yF.XCtOi</td>\n",
       "      <td>YCnbhplMgiraW4rUXcybgSEZinSgljm</td>\n",
       "      <td>Homemade Mac and Cheese Casserole</td>\n",
       "      <td>[8 ounces whole wheat rotini pasta ADVERTISEME...</td>\n",
       "      <td>Preheat oven to 350 degrees F. Line a 2-quart ...</td>\n",
       "    </tr>\n",
       "    <tr>\n",
       "      <th>4</th>\n",
       "      <td>kq.naD.8G19M4UU9dVvJgHtpfo.l/eC</td>\n",
       "      <td>jRnWGDXDdyOg3rta4/HVAR2rD19XubC</td>\n",
       "      <td>Banana Banana Bread</td>\n",
       "      <td>[2 cups all-purpose flour ADVERTISEMENT, 1 tea...</td>\n",
       "      <td>Preheat oven to 350 degrees F (175 degrees C)....</td>\n",
       "    </tr>\n",
       "  </tbody>\n",
       "</table>\n",
       "</div>"
      ],
      "text/plain": [
       "                             index                     picture_link  \\\n",
       "0  5ZpZE8hSVdPk2ZXo1mZTyoPWJRSCPSm  QyrvGdGNMBA2lDdciY0FjKu.77MM0Oe   \n",
       "1  clyYQv.CplpwJtjNaFGhx0VilNYqRxu  LVW1DI0vtlCrpAhNSEQysE9i/7rJG56   \n",
       "2  BmqFAmCrDHiKNwX.IQzb0U/v0mLlxFu  0SO5kdWOV94j6EfAVwMMYRM3yNN8eRi   \n",
       "3  N.jCksRjB4MFwbgPFQU8Kg.yF.XCtOi  YCnbhplMgiraW4rUXcybgSEZinSgljm   \n",
       "4  kq.naD.8G19M4UU9dVvJgHtpfo.l/eC  jRnWGDXDdyOg3rta4/HVAR2rD19XubC   \n",
       "\n",
       "                               title  \\\n",
       "0      Awesome Slow Cooker Pot Roast   \n",
       "1               Brown Sugar Meatloaf   \n",
       "2        Best Chocolate Chip Cookies   \n",
       "3  Homemade Mac and Cheese Casserole   \n",
       "4                Banana Banana Bread   \n",
       "\n",
       "                                         ingredients  \\\n",
       "0  [2 (10.75 ounce) cans condensed cream of mushr...   \n",
       "1  [1/2 cup packed brown sugar ADVERTISEMENT, 1/2...   \n",
       "2  [1 cup butter, softened ADVERTISEMENT, 1 cup w...   \n",
       "3  [8 ounces whole wheat rotini pasta ADVERTISEME...   \n",
       "4  [2 cups all-purpose flour ADVERTISEMENT, 1 tea...   \n",
       "\n",
       "                                        instructions  \n",
       "0  In a slow cooker, mix cream of mushroom soup, ...  \n",
       "1  Preheat oven to 350 degrees F (175 degrees C)....  \n",
       "2  Preheat oven to 350 degrees F (175 degrees C)....  \n",
       "3  Preheat oven to 350 degrees F. Line a 2-quart ...  \n",
       "4  Preheat oven to 350 degrees F (175 degrees C)....  "
      ]
     },
     "execution_count": 189,
     "metadata": {},
     "output_type": "execute_result"
    }
   ],
   "source": [
    "recipe_data = recipe_data.reset_index()\n",
    "recipe_data.head()"
   ]
  },
  {
   "cell_type": "code",
   "execution_count": 190,
   "id": "25ac83a8",
   "metadata": {},
   "outputs": [
    {
     "data": {
      "text/html": [
       "<div>\n",
       "<style scoped>\n",
       "    .dataframe tbody tr th:only-of-type {\n",
       "        vertical-align: middle;\n",
       "    }\n",
       "\n",
       "    .dataframe tbody tr th {\n",
       "        vertical-align: top;\n",
       "    }\n",
       "\n",
       "    .dataframe thead th {\n",
       "        text-align: right;\n",
       "    }\n",
       "</style>\n",
       "<table border=\"1\" class=\"dataframe\">\n",
       "  <thead>\n",
       "    <tr style=\"text-align: right;\">\n",
       "      <th></th>\n",
       "      <th>picture_link</th>\n",
       "      <th>title</th>\n",
       "      <th>ingredients</th>\n",
       "      <th>instructions</th>\n",
       "    </tr>\n",
       "  </thead>\n",
       "  <tbody>\n",
       "    <tr>\n",
       "      <th>0</th>\n",
       "      <td>QyrvGdGNMBA2lDdciY0FjKu.77MM0Oe</td>\n",
       "      <td>Awesome Slow Cooker Pot Roast</td>\n",
       "      <td>[2 (10.75 ounce) cans condensed cream of mushr...</td>\n",
       "      <td>In a slow cooker, mix cream of mushroom soup, ...</td>\n",
       "    </tr>\n",
       "    <tr>\n",
       "      <th>1</th>\n",
       "      <td>LVW1DI0vtlCrpAhNSEQysE9i/7rJG56</td>\n",
       "      <td>Brown Sugar Meatloaf</td>\n",
       "      <td>[1/2 cup packed brown sugar ADVERTISEMENT, 1/2...</td>\n",
       "      <td>Preheat oven to 350 degrees F (175 degrees C)....</td>\n",
       "    </tr>\n",
       "    <tr>\n",
       "      <th>2</th>\n",
       "      <td>0SO5kdWOV94j6EfAVwMMYRM3yNN8eRi</td>\n",
       "      <td>Best Chocolate Chip Cookies</td>\n",
       "      <td>[1 cup butter, softened ADVERTISEMENT, 1 cup w...</td>\n",
       "      <td>Preheat oven to 350 degrees F (175 degrees C)....</td>\n",
       "    </tr>\n",
       "    <tr>\n",
       "      <th>3</th>\n",
       "      <td>YCnbhplMgiraW4rUXcybgSEZinSgljm</td>\n",
       "      <td>Homemade Mac and Cheese Casserole</td>\n",
       "      <td>[8 ounces whole wheat rotini pasta ADVERTISEME...</td>\n",
       "      <td>Preheat oven to 350 degrees F. Line a 2-quart ...</td>\n",
       "    </tr>\n",
       "    <tr>\n",
       "      <th>4</th>\n",
       "      <td>jRnWGDXDdyOg3rta4/HVAR2rD19XubC</td>\n",
       "      <td>Banana Banana Bread</td>\n",
       "      <td>[2 cups all-purpose flour ADVERTISEMENT, 1 tea...</td>\n",
       "      <td>Preheat oven to 350 degrees F (175 degrees C)....</td>\n",
       "    </tr>\n",
       "  </tbody>\n",
       "</table>\n",
       "</div>"
      ],
      "text/plain": [
       "                      picture_link                              title  \\\n",
       "0  QyrvGdGNMBA2lDdciY0FjKu.77MM0Oe      Awesome Slow Cooker Pot Roast   \n",
       "1  LVW1DI0vtlCrpAhNSEQysE9i/7rJG56               Brown Sugar Meatloaf   \n",
       "2  0SO5kdWOV94j6EfAVwMMYRM3yNN8eRi        Best Chocolate Chip Cookies   \n",
       "3  YCnbhplMgiraW4rUXcybgSEZinSgljm  Homemade Mac and Cheese Casserole   \n",
       "4  jRnWGDXDdyOg3rta4/HVAR2rD19XubC                Banana Banana Bread   \n",
       "\n",
       "                                         ingredients  \\\n",
       "0  [2 (10.75 ounce) cans condensed cream of mushr...   \n",
       "1  [1/2 cup packed brown sugar ADVERTISEMENT, 1/2...   \n",
       "2  [1 cup butter, softened ADVERTISEMENT, 1 cup w...   \n",
       "3  [8 ounces whole wheat rotini pasta ADVERTISEME...   \n",
       "4  [2 cups all-purpose flour ADVERTISEMENT, 1 tea...   \n",
       "\n",
       "                                        instructions  \n",
       "0  In a slow cooker, mix cream of mushroom soup, ...  \n",
       "1  Preheat oven to 350 degrees F (175 degrees C)....  \n",
       "2  Preheat oven to 350 degrees F (175 degrees C)....  \n",
       "3  Preheat oven to 350 degrees F. Line a 2-quart ...  \n",
       "4  Preheat oven to 350 degrees F (175 degrees C)....  "
      ]
     },
     "execution_count": 190,
     "metadata": {},
     "output_type": "execute_result"
    }
   ],
   "source": [
    "recipe_data.drop('index', axis=1, inplace=True)\n",
    "recipe_data.head()"
   ]
  },
  {
   "cell_type": "code",
   "execution_count": 191,
   "id": "ccfde127",
   "metadata": {},
   "outputs": [],
   "source": [
    "recipe_data.drop('picture_link', axis=1, inplace=True)"
   ]
  },
  {
   "cell_type": "code",
   "execution_count": 192,
   "id": "5cfeab02",
   "metadata": {},
   "outputs": [
    {
     "data": {
      "text/html": [
       "<div>\n",
       "<style scoped>\n",
       "    .dataframe tbody tr th:only-of-type {\n",
       "        vertical-align: middle;\n",
       "    }\n",
       "\n",
       "    .dataframe tbody tr th {\n",
       "        vertical-align: top;\n",
       "    }\n",
       "\n",
       "    .dataframe thead th {\n",
       "        text-align: right;\n",
       "    }\n",
       "</style>\n",
       "<table border=\"1\" class=\"dataframe\">\n",
       "  <thead>\n",
       "    <tr style=\"text-align: right;\">\n",
       "      <th></th>\n",
       "      <th>title</th>\n",
       "      <th>ingredients</th>\n",
       "      <th>instructions</th>\n",
       "    </tr>\n",
       "  </thead>\n",
       "  <tbody>\n",
       "    <tr>\n",
       "      <th>0</th>\n",
       "      <td>Awesome Slow Cooker Pot Roast</td>\n",
       "      <td>[2 (10.75 ounce) cans condensed cream of mushr...</td>\n",
       "      <td>In a slow cooker, mix cream of mushroom soup, ...</td>\n",
       "    </tr>\n",
       "    <tr>\n",
       "      <th>1</th>\n",
       "      <td>Brown Sugar Meatloaf</td>\n",
       "      <td>[1/2 cup packed brown sugar ADVERTISEMENT, 1/2...</td>\n",
       "      <td>Preheat oven to 350 degrees F (175 degrees C)....</td>\n",
       "    </tr>\n",
       "    <tr>\n",
       "      <th>2</th>\n",
       "      <td>Best Chocolate Chip Cookies</td>\n",
       "      <td>[1 cup butter, softened ADVERTISEMENT, 1 cup w...</td>\n",
       "      <td>Preheat oven to 350 degrees F (175 degrees C)....</td>\n",
       "    </tr>\n",
       "    <tr>\n",
       "      <th>3</th>\n",
       "      <td>Homemade Mac and Cheese Casserole</td>\n",
       "      <td>[8 ounces whole wheat rotini pasta ADVERTISEME...</td>\n",
       "      <td>Preheat oven to 350 degrees F. Line a 2-quart ...</td>\n",
       "    </tr>\n",
       "    <tr>\n",
       "      <th>4</th>\n",
       "      <td>Banana Banana Bread</td>\n",
       "      <td>[2 cups all-purpose flour ADVERTISEMENT, 1 tea...</td>\n",
       "      <td>Preheat oven to 350 degrees F (175 degrees C)....</td>\n",
       "    </tr>\n",
       "  </tbody>\n",
       "</table>\n",
       "</div>"
      ],
      "text/plain": [
       "                               title  \\\n",
       "0      Awesome Slow Cooker Pot Roast   \n",
       "1               Brown Sugar Meatloaf   \n",
       "2        Best Chocolate Chip Cookies   \n",
       "3  Homemade Mac and Cheese Casserole   \n",
       "4                Banana Banana Bread   \n",
       "\n",
       "                                         ingredients  \\\n",
       "0  [2 (10.75 ounce) cans condensed cream of mushr...   \n",
       "1  [1/2 cup packed brown sugar ADVERTISEMENT, 1/2...   \n",
       "2  [1 cup butter, softened ADVERTISEMENT, 1 cup w...   \n",
       "3  [8 ounces whole wheat rotini pasta ADVERTISEME...   \n",
       "4  [2 cups all-purpose flour ADVERTISEMENT, 1 tea...   \n",
       "\n",
       "                                        instructions  \n",
       "0  In a slow cooker, mix cream of mushroom soup, ...  \n",
       "1  Preheat oven to 350 degrees F (175 degrees C)....  \n",
       "2  Preheat oven to 350 degrees F (175 degrees C)....  \n",
       "3  Preheat oven to 350 degrees F. Line a 2-quart ...  \n",
       "4  Preheat oven to 350 degrees F (175 degrees C)....  "
      ]
     },
     "execution_count": 192,
     "metadata": {},
     "output_type": "execute_result"
    }
   ],
   "source": [
    "recipe_data.head()"
   ]
  },
  {
   "cell_type": "code",
   "execution_count": 193,
   "id": "ab7a2e59",
   "metadata": {},
   "outputs": [
    {
     "data": {
      "text/plain": [
       "['2 (10.75 ounce) cans condensed cream of mushroom soup ADVERTISEMENT',\n",
       " '1 (1 ounce) package dry onion soup mix ADVERTISEMENT',\n",
       " '1 1/4 cups water ADVERTISEMENT',\n",
       " '5 1/2 pounds pot roast ADVERTISEMENT',\n",
       " 'ADVERTISEMENT']"
      ]
     },
     "execution_count": 193,
     "metadata": {},
     "output_type": "execute_result"
    }
   ],
   "source": [
    "recipe_data['ingredients'][0]"
   ]
  },
  {
   "cell_type": "markdown",
   "id": "46093ed8",
   "metadata": {},
   "source": [
    "## Remove advertisements:"
   ]
  },
  {
   "cell_type": "code",
   "execution_count": 194,
   "id": "43c21b6e",
   "metadata": {},
   "outputs": [
    {
     "data": {
      "text/plain": [
       "39517"
      ]
     },
     "execution_count": 194,
     "metadata": {},
     "output_type": "execute_result"
    }
   ],
   "source": [
    "count=0\n",
    "for i in recipe_data['ingredients']:\n",
    "    if 'ADVERTISEMENT' in i:\n",
    "        count+=1\n",
    "\n",
    "count"
   ]
  },
  {
   "cell_type": "code",
   "execution_count": 195,
   "id": "41149594",
   "metadata": {},
   "outputs": [],
   "source": [
    "recipe_data['ingredients'] = recipe_data['ingredients'].apply(lambda x: [element.replace('ADVERTISEMENT', '') for element in x])"
   ]
  },
  {
   "cell_type": "code",
   "execution_count": 196,
   "id": "6d14674f",
   "metadata": {},
   "outputs": [
    {
     "data": {
      "text/plain": [
       "title           0\n",
       "ingredients     0\n",
       "instructions    0\n",
       "dtype: int64"
      ]
     },
     "execution_count": 196,
     "metadata": {},
     "output_type": "execute_result"
    }
   ],
   "source": [
    "recipe_data.isna().sum()"
   ]
  },
  {
   "cell_type": "markdown",
   "id": "8c87f4c2",
   "metadata": {},
   "source": [
    "## Create a column with all the text from the recipe:"
   ]
  },
  {
   "cell_type": "code",
   "execution_count": 197,
   "id": "daa6067b",
   "metadata": {},
   "outputs": [],
   "source": [
    "recipe_data['full_text'] = ('Recipe title: ' + recipe_data['title']\n",
    "                            + '. Ingredients: ' + recipe_data['ingredients'].apply(lambda x: ', '.join(x))\n",
    "                            + '. Instructions: ' + recipe_data['instructions'])"
   ]
  },
  {
   "cell_type": "markdown",
   "id": "f16e0968",
   "metadata": {},
   "source": [
    "## Remove punctuation:"
   ]
  },
  {
   "cell_type": "code",
   "execution_count": 198,
   "id": "4fc1940f",
   "metadata": {},
   "outputs": [],
   "source": [
    "def remove_punctuation(text):\n",
    "    cleaned_text = ''.join([i for i in text if i not in string.punctuation])\n",
    "    \n",
    "    return cleaned_text"
   ]
  },
  {
   "cell_type": "code",
   "execution_count": 199,
   "id": "3fd2cdc6",
   "metadata": {},
   "outputs": [
    {
     "data": {
      "text/html": [
       "<div>\n",
       "<style scoped>\n",
       "    .dataframe tbody tr th:only-of-type {\n",
       "        vertical-align: middle;\n",
       "    }\n",
       "\n",
       "    .dataframe tbody tr th {\n",
       "        vertical-align: top;\n",
       "    }\n",
       "\n",
       "    .dataframe thead th {\n",
       "        text-align: right;\n",
       "    }\n",
       "</style>\n",
       "<table border=\"1\" class=\"dataframe\">\n",
       "  <thead>\n",
       "    <tr style=\"text-align: right;\">\n",
       "      <th></th>\n",
       "      <th>title</th>\n",
       "      <th>ingredients</th>\n",
       "      <th>instructions</th>\n",
       "      <th>full_text</th>\n",
       "    </tr>\n",
       "  </thead>\n",
       "  <tbody>\n",
       "    <tr>\n",
       "      <th>0</th>\n",
       "      <td>Awesome Slow Cooker Pot Roast</td>\n",
       "      <td>[2 (10.75 ounce) cans condensed cream of mushr...</td>\n",
       "      <td>In a slow cooker, mix cream of mushroom soup, ...</td>\n",
       "      <td>recipe title awesome slow cooker pot roast ing...</td>\n",
       "    </tr>\n",
       "    <tr>\n",
       "      <th>1</th>\n",
       "      <td>Brown Sugar Meatloaf</td>\n",
       "      <td>[1/2 cup packed brown sugar , 1/2 cup ketchup ...</td>\n",
       "      <td>Preheat oven to 350 degrees F (175 degrees C)....</td>\n",
       "      <td>recipe title brown sugar meatloaf ingredients ...</td>\n",
       "    </tr>\n",
       "    <tr>\n",
       "      <th>2</th>\n",
       "      <td>Best Chocolate Chip Cookies</td>\n",
       "      <td>[1 cup butter, softened , 1 cup white sugar , ...</td>\n",
       "      <td>Preheat oven to 350 degrees F (175 degrees C)....</td>\n",
       "      <td>recipe title best chocolate chip cookies ingre...</td>\n",
       "    </tr>\n",
       "    <tr>\n",
       "      <th>3</th>\n",
       "      <td>Homemade Mac and Cheese Casserole</td>\n",
       "      <td>[8 ounces whole wheat rotini pasta , 3 cups fr...</td>\n",
       "      <td>Preheat oven to 350 degrees F. Line a 2-quart ...</td>\n",
       "      <td>recipe title homemade mac and cheese casserole...</td>\n",
       "    </tr>\n",
       "    <tr>\n",
       "      <th>4</th>\n",
       "      <td>Banana Banana Bread</td>\n",
       "      <td>[2 cups all-purpose flour , 1 teaspoon baking ...</td>\n",
       "      <td>Preheat oven to 350 degrees F (175 degrees C)....</td>\n",
       "      <td>recipe title banana banana bread ingredients 2...</td>\n",
       "    </tr>\n",
       "  </tbody>\n",
       "</table>\n",
       "</div>"
      ],
      "text/plain": [
       "                               title  \\\n",
       "0      Awesome Slow Cooker Pot Roast   \n",
       "1               Brown Sugar Meatloaf   \n",
       "2        Best Chocolate Chip Cookies   \n",
       "3  Homemade Mac and Cheese Casserole   \n",
       "4                Banana Banana Bread   \n",
       "\n",
       "                                         ingredients  \\\n",
       "0  [2 (10.75 ounce) cans condensed cream of mushr...   \n",
       "1  [1/2 cup packed brown sugar , 1/2 cup ketchup ...   \n",
       "2  [1 cup butter, softened , 1 cup white sugar , ...   \n",
       "3  [8 ounces whole wheat rotini pasta , 3 cups fr...   \n",
       "4  [2 cups all-purpose flour , 1 teaspoon baking ...   \n",
       "\n",
       "                                        instructions  \\\n",
       "0  In a slow cooker, mix cream of mushroom soup, ...   \n",
       "1  Preheat oven to 350 degrees F (175 degrees C)....   \n",
       "2  Preheat oven to 350 degrees F (175 degrees C)....   \n",
       "3  Preheat oven to 350 degrees F. Line a 2-quart ...   \n",
       "4  Preheat oven to 350 degrees F (175 degrees C)....   \n",
       "\n",
       "                                           full_text  \n",
       "0  recipe title awesome slow cooker pot roast ing...  \n",
       "1  recipe title brown sugar meatloaf ingredients ...  \n",
       "2  recipe title best chocolate chip cookies ingre...  \n",
       "3  recipe title homemade mac and cheese casserole...  \n",
       "4  recipe title banana banana bread ingredients 2...  "
      ]
     },
     "execution_count": 199,
     "metadata": {},
     "output_type": "execute_result"
    }
   ],
   "source": [
    "recipe_data['full_text'] = recipe_data['full_text'].apply(lambda x: remove_punctuation(x.lower()))\n",
    "recipe_data.head()"
   ]
  },
  {
   "cell_type": "markdown",
   "id": "29b26b49",
   "metadata": {},
   "source": [
    "## Correct misspeled words:"
   ]
  },
  {
   "cell_type": "code",
   "execution_count": 200,
   "id": "ffe55d0d",
   "metadata": {},
   "outputs": [],
   "source": [
    "def correct_sentence(sentence):\n",
    "    sent = TextBlob(sentence)\n",
    "    result = sent.correct()\n",
    "    return result"
   ]
  },
  {
   "cell_type": "code",
   "execution_count": 201,
   "id": "294681a2",
   "metadata": {},
   "outputs": [
    {
     "ename": "KeyboardInterrupt",
     "evalue": "",
     "output_type": "error",
     "traceback": [
      "\u001b[1;31m---------------------------------------------------------------------------\u001b[0m",
      "\u001b[1;31mKeyboardInterrupt\u001b[0m                         Traceback (most recent call last)",
      "Cell \u001b[1;32mIn[201], line 1\u001b[0m\n\u001b[1;32m----> 1\u001b[0m recipe_data[\u001b[38;5;124m'\u001b[39m\u001b[38;5;124mfull_text\u001b[39m\u001b[38;5;124m'\u001b[39m] \u001b[38;5;241m=\u001b[39m \u001b[43mrecipe_data\u001b[49m\u001b[43m[\u001b[49m\u001b[38;5;124;43m'\u001b[39;49m\u001b[38;5;124;43mfull_text\u001b[39;49m\u001b[38;5;124;43m'\u001b[39;49m\u001b[43m]\u001b[49m\u001b[38;5;241;43m.\u001b[39;49m\u001b[43mapply\u001b[49m\u001b[43m(\u001b[49m\u001b[38;5;28;43;01mlambda\u001b[39;49;00m\u001b[43m \u001b[49m\u001b[43mx\u001b[49m\u001b[43m:\u001b[49m\u001b[43m \u001b[49m\u001b[43mcorrect_sentence\u001b[49m\u001b[43m(\u001b[49m\u001b[43mx\u001b[49m\u001b[43m)\u001b[49m\u001b[43m)\u001b[49m\n\u001b[0;32m      2\u001b[0m recipe_data[\u001b[38;5;124m'\u001b[39m\u001b[38;5;124mfull_text\u001b[39m\u001b[38;5;124m'\u001b[39m][\u001b[38;5;241m0\u001b[39m]\n",
      "File \u001b[1;32m~\\Anaconda3\\lib\\site-packages\\pandas\\core\\series.py:4433\u001b[0m, in \u001b[0;36mSeries.apply\u001b[1;34m(self, func, convert_dtype, args, **kwargs)\u001b[0m\n\u001b[0;32m   4323\u001b[0m \u001b[38;5;28;01mdef\u001b[39;00m \u001b[38;5;21mapply\u001b[39m(\n\u001b[0;32m   4324\u001b[0m     \u001b[38;5;28mself\u001b[39m,\n\u001b[0;32m   4325\u001b[0m     func: AggFuncType,\n\u001b[1;32m   (...)\u001b[0m\n\u001b[0;32m   4328\u001b[0m     \u001b[38;5;241m*\u001b[39m\u001b[38;5;241m*\u001b[39mkwargs,\n\u001b[0;32m   4329\u001b[0m ) \u001b[38;5;241m-\u001b[39m\u001b[38;5;241m>\u001b[39m DataFrame \u001b[38;5;241m|\u001b[39m Series:\n\u001b[0;32m   4330\u001b[0m \u001b[38;5;250m    \u001b[39m\u001b[38;5;124;03m\"\"\"\u001b[39;00m\n\u001b[0;32m   4331\u001b[0m \u001b[38;5;124;03m    Invoke function on values of Series.\u001b[39;00m\n\u001b[0;32m   4332\u001b[0m \n\u001b[1;32m   (...)\u001b[0m\n\u001b[0;32m   4431\u001b[0m \u001b[38;5;124;03m    dtype: float64\u001b[39;00m\n\u001b[0;32m   4432\u001b[0m \u001b[38;5;124;03m    \"\"\"\u001b[39;00m\n\u001b[1;32m-> 4433\u001b[0m     \u001b[38;5;28;01mreturn\u001b[39;00m \u001b[43mSeriesApply\u001b[49m\u001b[43m(\u001b[49m\u001b[38;5;28;43mself\u001b[39;49m\u001b[43m,\u001b[49m\u001b[43m \u001b[49m\u001b[43mfunc\u001b[49m\u001b[43m,\u001b[49m\u001b[43m \u001b[49m\u001b[43mconvert_dtype\u001b[49m\u001b[43m,\u001b[49m\u001b[43m \u001b[49m\u001b[43margs\u001b[49m\u001b[43m,\u001b[49m\u001b[43m \u001b[49m\u001b[43mkwargs\u001b[49m\u001b[43m)\u001b[49m\u001b[38;5;241;43m.\u001b[39;49m\u001b[43mapply\u001b[49m\u001b[43m(\u001b[49m\u001b[43m)\u001b[49m\n",
      "File \u001b[1;32m~\\Anaconda3\\lib\\site-packages\\pandas\\core\\apply.py:1088\u001b[0m, in \u001b[0;36mSeriesApply.apply\u001b[1;34m(self)\u001b[0m\n\u001b[0;32m   1084\u001b[0m \u001b[38;5;28;01mif\u001b[39;00m \u001b[38;5;28misinstance\u001b[39m(\u001b[38;5;28mself\u001b[39m\u001b[38;5;241m.\u001b[39mf, \u001b[38;5;28mstr\u001b[39m):\n\u001b[0;32m   1085\u001b[0m     \u001b[38;5;66;03m# if we are a string, try to dispatch\u001b[39;00m\n\u001b[0;32m   1086\u001b[0m     \u001b[38;5;28;01mreturn\u001b[39;00m \u001b[38;5;28mself\u001b[39m\u001b[38;5;241m.\u001b[39mapply_str()\n\u001b[1;32m-> 1088\u001b[0m \u001b[38;5;28;01mreturn\u001b[39;00m \u001b[38;5;28;43mself\u001b[39;49m\u001b[38;5;241;43m.\u001b[39;49m\u001b[43mapply_standard\u001b[49m\u001b[43m(\u001b[49m\u001b[43m)\u001b[49m\n",
      "File \u001b[1;32m~\\Anaconda3\\lib\\site-packages\\pandas\\core\\apply.py:1143\u001b[0m, in \u001b[0;36mSeriesApply.apply_standard\u001b[1;34m(self)\u001b[0m\n\u001b[0;32m   1137\u001b[0m         values \u001b[38;5;241m=\u001b[39m obj\u001b[38;5;241m.\u001b[39mastype(\u001b[38;5;28mobject\u001b[39m)\u001b[38;5;241m.\u001b[39m_values\n\u001b[0;32m   1138\u001b[0m         \u001b[38;5;66;03m# error: Argument 2 to \"map_infer\" has incompatible type\u001b[39;00m\n\u001b[0;32m   1139\u001b[0m         \u001b[38;5;66;03m# \"Union[Callable[..., Any], str, List[Union[Callable[..., Any], str]],\u001b[39;00m\n\u001b[0;32m   1140\u001b[0m         \u001b[38;5;66;03m# Dict[Hashable, Union[Union[Callable[..., Any], str],\u001b[39;00m\n\u001b[0;32m   1141\u001b[0m         \u001b[38;5;66;03m# List[Union[Callable[..., Any], str]]]]]\"; expected\u001b[39;00m\n\u001b[0;32m   1142\u001b[0m         \u001b[38;5;66;03m# \"Callable[[Any], Any]\"\u001b[39;00m\n\u001b[1;32m-> 1143\u001b[0m         mapped \u001b[38;5;241m=\u001b[39m \u001b[43mlib\u001b[49m\u001b[38;5;241;43m.\u001b[39;49m\u001b[43mmap_infer\u001b[49m\u001b[43m(\u001b[49m\n\u001b[0;32m   1144\u001b[0m \u001b[43m            \u001b[49m\u001b[43mvalues\u001b[49m\u001b[43m,\u001b[49m\n\u001b[0;32m   1145\u001b[0m \u001b[43m            \u001b[49m\u001b[43mf\u001b[49m\u001b[43m,\u001b[49m\u001b[43m  \u001b[49m\u001b[38;5;66;43;03m# type: ignore[arg-type]\u001b[39;49;00m\n\u001b[0;32m   1146\u001b[0m \u001b[43m            \u001b[49m\u001b[43mconvert\u001b[49m\u001b[38;5;241;43m=\u001b[39;49m\u001b[38;5;28;43mself\u001b[39;49m\u001b[38;5;241;43m.\u001b[39;49m\u001b[43mconvert_dtype\u001b[49m\u001b[43m,\u001b[49m\n\u001b[0;32m   1147\u001b[0m \u001b[43m        \u001b[49m\u001b[43m)\u001b[49m\n\u001b[0;32m   1149\u001b[0m \u001b[38;5;28;01mif\u001b[39;00m \u001b[38;5;28mlen\u001b[39m(mapped) \u001b[38;5;129;01mand\u001b[39;00m \u001b[38;5;28misinstance\u001b[39m(mapped[\u001b[38;5;241m0\u001b[39m], ABCSeries):\n\u001b[0;32m   1150\u001b[0m     \u001b[38;5;66;03m# GH#43986 Need to do list(mapped) in order to get treated as nested\u001b[39;00m\n\u001b[0;32m   1151\u001b[0m     \u001b[38;5;66;03m#  See also GH#25959 regarding EA support\u001b[39;00m\n\u001b[0;32m   1152\u001b[0m     \u001b[38;5;28;01mreturn\u001b[39;00m obj\u001b[38;5;241m.\u001b[39m_constructor_expanddim(\u001b[38;5;28mlist\u001b[39m(mapped), index\u001b[38;5;241m=\u001b[39mobj\u001b[38;5;241m.\u001b[39mindex)\n",
      "File \u001b[1;32m~\\Anaconda3\\lib\\site-packages\\pandas\\_libs\\lib.pyx:2870\u001b[0m, in \u001b[0;36mpandas._libs.lib.map_infer\u001b[1;34m()\u001b[0m\n",
      "Cell \u001b[1;32mIn[201], line 1\u001b[0m, in \u001b[0;36m<lambda>\u001b[1;34m(x)\u001b[0m\n\u001b[1;32m----> 1\u001b[0m recipe_data[\u001b[38;5;124m'\u001b[39m\u001b[38;5;124mfull_text\u001b[39m\u001b[38;5;124m'\u001b[39m] \u001b[38;5;241m=\u001b[39m recipe_data[\u001b[38;5;124m'\u001b[39m\u001b[38;5;124mfull_text\u001b[39m\u001b[38;5;124m'\u001b[39m]\u001b[38;5;241m.\u001b[39mapply(\u001b[38;5;28;01mlambda\u001b[39;00m x: \u001b[43mcorrect_sentence\u001b[49m\u001b[43m(\u001b[49m\u001b[43mx\u001b[49m\u001b[43m)\u001b[49m)\n\u001b[0;32m      2\u001b[0m recipe_data[\u001b[38;5;124m'\u001b[39m\u001b[38;5;124mfull_text\u001b[39m\u001b[38;5;124m'\u001b[39m][\u001b[38;5;241m0\u001b[39m]\n",
      "Cell \u001b[1;32mIn[200], line 3\u001b[0m, in \u001b[0;36mcorrect_sentence\u001b[1;34m(sentence)\u001b[0m\n\u001b[0;32m      1\u001b[0m \u001b[38;5;28;01mdef\u001b[39;00m \u001b[38;5;21mcorrect_sentence\u001b[39m(sentence):\n\u001b[0;32m      2\u001b[0m     sent \u001b[38;5;241m=\u001b[39m TextBlob(sentence)\n\u001b[1;32m----> 3\u001b[0m     result \u001b[38;5;241m=\u001b[39m \u001b[43msent\u001b[49m\u001b[38;5;241;43m.\u001b[39;49m\u001b[43mcorrect\u001b[49m\u001b[43m(\u001b[49m\u001b[43m)\u001b[49m\n\u001b[0;32m      4\u001b[0m     \u001b[38;5;28;01mreturn\u001b[39;00m result\n",
      "File \u001b[1;32m~\\Anaconda3\\lib\\site-packages\\textblob\\blob.py:609\u001b[0m, in \u001b[0;36mBaseBlob.correct\u001b[1;34m(self)\u001b[0m\n\u001b[0;32m    607\u001b[0m tokens \u001b[38;5;241m=\u001b[39m nltk\u001b[38;5;241m.\u001b[39mtokenize\u001b[38;5;241m.\u001b[39mregexp_tokenize(\u001b[38;5;28mself\u001b[39m\u001b[38;5;241m.\u001b[39mraw, \u001b[38;5;124mr\u001b[39m\u001b[38;5;124m\"\u001b[39m\u001b[38;5;124m\\\u001b[39m\u001b[38;5;124mw+|[^\u001b[39m\u001b[38;5;124m\\\u001b[39m\u001b[38;5;124mw\u001b[39m\u001b[38;5;124m\\\u001b[39m\u001b[38;5;124ms]|\u001b[39m\u001b[38;5;124m\\\u001b[39m\u001b[38;5;124ms\u001b[39m\u001b[38;5;124m\"\u001b[39m)\n\u001b[0;32m    608\u001b[0m corrected \u001b[38;5;241m=\u001b[39m (Word(w)\u001b[38;5;241m.\u001b[39mcorrect() \u001b[38;5;28;01mfor\u001b[39;00m w \u001b[38;5;129;01min\u001b[39;00m tokens)\n\u001b[1;32m--> 609\u001b[0m ret \u001b[38;5;241m=\u001b[39m \u001b[38;5;124;43m'\u001b[39;49m\u001b[38;5;124;43m'\u001b[39;49m\u001b[38;5;241;43m.\u001b[39;49m\u001b[43mjoin\u001b[49m\u001b[43m(\u001b[49m\u001b[43mcorrected\u001b[49m\u001b[43m)\u001b[49m\n\u001b[0;32m    610\u001b[0m \u001b[38;5;28;01mreturn\u001b[39;00m \u001b[38;5;28mself\u001b[39m\u001b[38;5;241m.\u001b[39m\u001b[38;5;18m__class__\u001b[39m(ret)\n",
      "File \u001b[1;32m~\\Anaconda3\\lib\\site-packages\\textblob\\blob.py:608\u001b[0m, in \u001b[0;36m<genexpr>\u001b[1;34m(.0)\u001b[0m\n\u001b[0;32m    606\u001b[0m \u001b[38;5;66;03m# regex matches: word or punctuation or whitespace\u001b[39;00m\n\u001b[0;32m    607\u001b[0m tokens \u001b[38;5;241m=\u001b[39m nltk\u001b[38;5;241m.\u001b[39mtokenize\u001b[38;5;241m.\u001b[39mregexp_tokenize(\u001b[38;5;28mself\u001b[39m\u001b[38;5;241m.\u001b[39mraw, \u001b[38;5;124mr\u001b[39m\u001b[38;5;124m\"\u001b[39m\u001b[38;5;124m\\\u001b[39m\u001b[38;5;124mw+|[^\u001b[39m\u001b[38;5;124m\\\u001b[39m\u001b[38;5;124mw\u001b[39m\u001b[38;5;124m\\\u001b[39m\u001b[38;5;124ms]|\u001b[39m\u001b[38;5;124m\\\u001b[39m\u001b[38;5;124ms\u001b[39m\u001b[38;5;124m\"\u001b[39m)\n\u001b[1;32m--> 608\u001b[0m corrected \u001b[38;5;241m=\u001b[39m (\u001b[43mWord\u001b[49m\u001b[43m(\u001b[49m\u001b[43mw\u001b[49m\u001b[43m)\u001b[49m\u001b[38;5;241;43m.\u001b[39;49m\u001b[43mcorrect\u001b[49m\u001b[43m(\u001b[49m\u001b[43m)\u001b[49m \u001b[38;5;28;01mfor\u001b[39;00m w \u001b[38;5;129;01min\u001b[39;00m tokens)\n\u001b[0;32m    609\u001b[0m ret \u001b[38;5;241m=\u001b[39m \u001b[38;5;124m'\u001b[39m\u001b[38;5;124m'\u001b[39m\u001b[38;5;241m.\u001b[39mjoin(corrected)\n\u001b[0;32m    610\u001b[0m \u001b[38;5;28;01mreturn\u001b[39;00m \u001b[38;5;28mself\u001b[39m\u001b[38;5;241m.\u001b[39m\u001b[38;5;18m__class__\u001b[39m(ret)\n",
      "File \u001b[1;32m~\\Anaconda3\\lib\\site-packages\\textblob\\blob.py:142\u001b[0m, in \u001b[0;36mWord.correct\u001b[1;34m(self)\u001b[0m\n\u001b[0;32m    136\u001b[0m \u001b[38;5;28;01mdef\u001b[39;00m \u001b[38;5;21mcorrect\u001b[39m(\u001b[38;5;28mself\u001b[39m):\n\u001b[0;32m    137\u001b[0m \u001b[38;5;250m    \u001b[39m\u001b[38;5;124;03m'''Correct the spelling of the word. Returns the word with the highest\u001b[39;00m\n\u001b[0;32m    138\u001b[0m \u001b[38;5;124;03m    confidence using the spelling corrector.\u001b[39;00m\n\u001b[0;32m    139\u001b[0m \n\u001b[0;32m    140\u001b[0m \u001b[38;5;124;03m    .. versionadded:: 0.6.0\u001b[39;00m\n\u001b[0;32m    141\u001b[0m \u001b[38;5;124;03m    '''\u001b[39;00m\n\u001b[1;32m--> 142\u001b[0m     \u001b[38;5;28;01mreturn\u001b[39;00m Word(\u001b[38;5;28;43mself\u001b[39;49m\u001b[38;5;241;43m.\u001b[39;49m\u001b[43mspellcheck\u001b[49m\u001b[43m(\u001b[49m\u001b[43m)\u001b[49m[\u001b[38;5;241m0\u001b[39m][\u001b[38;5;241m0\u001b[39m])\n",
      "File \u001b[1;32m~\\Anaconda3\\lib\\site-packages\\textblob\\blob.py:134\u001b[0m, in \u001b[0;36mWord.spellcheck\u001b[1;34m(self)\u001b[0m\n\u001b[0;32m    125\u001b[0m \u001b[38;5;28;01mdef\u001b[39;00m \u001b[38;5;21mspellcheck\u001b[39m(\u001b[38;5;28mself\u001b[39m):\n\u001b[0;32m    126\u001b[0m \u001b[38;5;250m    \u001b[39m\u001b[38;5;124;03m'''Return a list of (word, confidence) tuples of spelling corrections.\u001b[39;00m\n\u001b[0;32m    127\u001b[0m \n\u001b[0;32m    128\u001b[0m \u001b[38;5;124;03m    Based on: Peter Norvig, \"How to Write a Spelling Corrector\"\u001b[39;00m\n\u001b[1;32m   (...)\u001b[0m\n\u001b[0;32m    132\u001b[0m \u001b[38;5;124;03m    .. versionadded:: 0.6.0\u001b[39;00m\n\u001b[0;32m    133\u001b[0m \u001b[38;5;124;03m    '''\u001b[39;00m\n\u001b[1;32m--> 134\u001b[0m     \u001b[38;5;28;01mreturn\u001b[39;00m \u001b[43msuggest\u001b[49m\u001b[43m(\u001b[49m\u001b[38;5;28;43mself\u001b[39;49m\u001b[38;5;241;43m.\u001b[39;49m\u001b[43mstring\u001b[49m\u001b[43m)\u001b[49m\n",
      "File \u001b[1;32m~\\Anaconda3\\lib\\site-packages\\textblob\\en\\__init__.py:123\u001b[0m, in \u001b[0;36msuggest\u001b[1;34m(w)\u001b[0m\n\u001b[0;32m    120\u001b[0m \u001b[38;5;28;01mdef\u001b[39;00m \u001b[38;5;21msuggest\u001b[39m(w):\n\u001b[0;32m    121\u001b[0m \u001b[38;5;250m    \u001b[39m\u001b[38;5;124;03m\"\"\" Returns a list of (word, confidence)-tuples of spelling corrections.\u001b[39;00m\n\u001b[0;32m    122\u001b[0m \u001b[38;5;124;03m    \"\"\"\u001b[39;00m\n\u001b[1;32m--> 123\u001b[0m     \u001b[38;5;28;01mreturn\u001b[39;00m \u001b[43mspelling\u001b[49m\u001b[38;5;241;43m.\u001b[39;49m\u001b[43msuggest\u001b[49m\u001b[43m(\u001b[49m\u001b[43mw\u001b[49m\u001b[43m)\u001b[49m\n",
      "File \u001b[1;32m~\\Anaconda3\\lib\\site-packages\\textblob\\_text.py:1399\u001b[0m, in \u001b[0;36mSpelling.suggest\u001b[1;34m(self, w)\u001b[0m\n\u001b[0;32m   1395\u001b[0m \u001b[38;5;28;01mif\u001b[39;00m w\u001b[38;5;241m.\u001b[39mreplace(\u001b[38;5;124m\"\u001b[39m\u001b[38;5;124m.\u001b[39m\u001b[38;5;124m\"\u001b[39m, \u001b[38;5;124m\"\u001b[39m\u001b[38;5;124m\"\u001b[39m)\u001b[38;5;241m.\u001b[39misdigit():\n\u001b[0;32m   1396\u001b[0m     \u001b[38;5;28;01mreturn\u001b[39;00m [(w, \u001b[38;5;241m1.0\u001b[39m)] \u001b[38;5;66;03m# 1.5\u001b[39;00m\n\u001b[0;32m   1397\u001b[0m candidates \u001b[38;5;241m=\u001b[39m \u001b[38;5;28mself\u001b[39m\u001b[38;5;241m.\u001b[39m_known([w]) \\\n\u001b[0;32m   1398\u001b[0m           \u001b[38;5;129;01mor\u001b[39;00m \u001b[38;5;28mself\u001b[39m\u001b[38;5;241m.\u001b[39m_known(\u001b[38;5;28mself\u001b[39m\u001b[38;5;241m.\u001b[39m_edit1(w)) \\\n\u001b[1;32m-> 1399\u001b[0m           \u001b[38;5;129;01mor\u001b[39;00m \u001b[38;5;28mself\u001b[39m\u001b[38;5;241m.\u001b[39m_known(\u001b[38;5;28;43mself\u001b[39;49m\u001b[38;5;241;43m.\u001b[39;49m\u001b[43m_edit2\u001b[49m\u001b[43m(\u001b[49m\u001b[43mw\u001b[49m\u001b[43m)\u001b[49m) \\\n\u001b[0;32m   1400\u001b[0m           \u001b[38;5;129;01mor\u001b[39;00m [w]\n\u001b[0;32m   1401\u001b[0m candidates \u001b[38;5;241m=\u001b[39m [(\u001b[38;5;28mself\u001b[39m\u001b[38;5;241m.\u001b[39mget(c, \u001b[38;5;241m0.0\u001b[39m), c) \u001b[38;5;28;01mfor\u001b[39;00m c \u001b[38;5;129;01min\u001b[39;00m candidates]\n\u001b[0;32m   1402\u001b[0m s \u001b[38;5;241m=\u001b[39m \u001b[38;5;28mfloat\u001b[39m(\u001b[38;5;28msum\u001b[39m(p \u001b[38;5;28;01mfor\u001b[39;00m p, word \u001b[38;5;129;01min\u001b[39;00m candidates) \u001b[38;5;129;01mor\u001b[39;00m \u001b[38;5;241m1\u001b[39m)\n",
      "File \u001b[1;32m~\\Anaconda3\\lib\\site-packages\\textblob\\_text.py:1376\u001b[0m, in \u001b[0;36mSpelling._edit2\u001b[1;34m(self, w)\u001b[0m\n\u001b[0;32m   1372\u001b[0m \u001b[38;5;250m\u001b[39m\u001b[38;5;124;03m\"\"\" Returns a set of words with edit distance 2 from the given word\u001b[39;00m\n\u001b[0;32m   1373\u001b[0m \u001b[38;5;124;03m\"\"\"\u001b[39;00m\n\u001b[0;32m   1374\u001b[0m \u001b[38;5;66;03m# Of all spelling errors, 99% is covered by edit distance 2.\u001b[39;00m\n\u001b[0;32m   1375\u001b[0m \u001b[38;5;66;03m# Only keep candidates that are actually known words (20% speedup).\u001b[39;00m\n\u001b[1;32m-> 1376\u001b[0m \u001b[38;5;28;01mreturn\u001b[39;00m \u001b[38;5;28;43mset\u001b[39;49m\u001b[43m(\u001b[49m\u001b[43me2\u001b[49m\u001b[43m \u001b[49m\u001b[38;5;28;43;01mfor\u001b[39;49;00m\u001b[43m \u001b[49m\u001b[43me1\u001b[49m\u001b[43m \u001b[49m\u001b[38;5;129;43;01min\u001b[39;49;00m\u001b[43m \u001b[49m\u001b[38;5;28;43mself\u001b[39;49m\u001b[38;5;241;43m.\u001b[39;49m\u001b[43m_edit1\u001b[49m\u001b[43m(\u001b[49m\u001b[43mw\u001b[49m\u001b[43m)\u001b[49m\u001b[43m \u001b[49m\u001b[38;5;28;43;01mfor\u001b[39;49;00m\u001b[43m \u001b[49m\u001b[43me2\u001b[49m\u001b[43m \u001b[49m\u001b[38;5;129;43;01min\u001b[39;49;00m\u001b[43m \u001b[49m\u001b[38;5;28;43mself\u001b[39;49m\u001b[38;5;241;43m.\u001b[39;49m\u001b[43m_edit1\u001b[49m\u001b[43m(\u001b[49m\u001b[43me1\u001b[49m\u001b[43m)\u001b[49m\u001b[43m \u001b[49m\u001b[38;5;28;43;01mif\u001b[39;49;00m\u001b[43m \u001b[49m\u001b[43me2\u001b[49m\u001b[43m \u001b[49m\u001b[38;5;129;43;01min\u001b[39;49;00m\u001b[43m \u001b[49m\u001b[38;5;28;43mself\u001b[39;49m\u001b[43m)\u001b[49m\n",
      "File \u001b[1;32m~\\Anaconda3\\lib\\site-packages\\textblob\\_text.py:1376\u001b[0m, in \u001b[0;36m<genexpr>\u001b[1;34m(.0)\u001b[0m\n\u001b[0;32m   1372\u001b[0m \u001b[38;5;250m\u001b[39m\u001b[38;5;124;03m\"\"\" Returns a set of words with edit distance 2 from the given word\u001b[39;00m\n\u001b[0;32m   1373\u001b[0m \u001b[38;5;124;03m\"\"\"\u001b[39;00m\n\u001b[0;32m   1374\u001b[0m \u001b[38;5;66;03m# Of all spelling errors, 99% is covered by edit distance 2.\u001b[39;00m\n\u001b[0;32m   1375\u001b[0m \u001b[38;5;66;03m# Only keep candidates that are actually known words (20% speedup).\u001b[39;00m\n\u001b[1;32m-> 1376\u001b[0m \u001b[38;5;28;01mreturn\u001b[39;00m \u001b[38;5;28mset\u001b[39m(e2 \u001b[38;5;28;01mfor\u001b[39;00m e1 \u001b[38;5;129;01min\u001b[39;00m \u001b[38;5;28mself\u001b[39m\u001b[38;5;241m.\u001b[39m_edit1(w) \u001b[38;5;28;01mfor\u001b[39;00m e2 \u001b[38;5;129;01min\u001b[39;00m \u001b[38;5;28mself\u001b[39m\u001b[38;5;241m.\u001b[39m_edit1(e1) \u001b[38;5;28;01mif\u001b[39;00m \u001b[43me2\u001b[49m\u001b[43m \u001b[49m\u001b[38;5;129;43;01min\u001b[39;49;00m\u001b[43m \u001b[49m\u001b[38;5;28;43mself\u001b[39;49m)\n",
      "File \u001b[1;32m~\\Anaconda3\\lib\\site-packages\\textblob\\_text.py:96\u001b[0m, in \u001b[0;36mlazydict.__contains__\u001b[1;34m(self, *args)\u001b[0m\n\u001b[0;32m     95\u001b[0m \u001b[38;5;28;01mdef\u001b[39;00m \u001b[38;5;21m__contains__\u001b[39m(\u001b[38;5;28mself\u001b[39m, \u001b[38;5;241m*\u001b[39margs):\n\u001b[1;32m---> 96\u001b[0m     \u001b[38;5;28;01mreturn\u001b[39;00m \u001b[38;5;28;43mself\u001b[39;49m\u001b[38;5;241;43m.\u001b[39;49m\u001b[43m_lazy\u001b[49m\u001b[43m(\u001b[49m\u001b[38;5;124;43m\"\u001b[39;49m\u001b[38;5;124;43m__contains__\u001b[39;49m\u001b[38;5;124;43m\"\u001b[39;49m\u001b[43m,\u001b[49m\u001b[43m \u001b[49m\u001b[38;5;241;43m*\u001b[39;49m\u001b[43margs\u001b[49m\u001b[43m)\u001b[49m\n",
      "\u001b[1;31mKeyboardInterrupt\u001b[0m: "
     ]
    }
   ],
   "source": [
    "recipe_data['full_text'] = recipe_data['full_text'].apply(lambda x: correct_sentence(x))\n",
    "recipe_data['full_text'][0]"
   ]
  },
  {
   "cell_type": "code",
   "execution_count": null,
   "id": "594de19f",
   "metadata": {},
   "outputs": [],
   "source": []
  },
  {
   "cell_type": "markdown",
   "id": "1b8848e6",
   "metadata": {},
   "source": [
    "## Tokenize:"
   ]
  },
  {
   "cell_type": "code",
   "execution_count": 120,
   "id": "6be8666d",
   "metadata": {},
   "outputs": [],
   "source": [
    "def tokenization(text):\n",
    "    tokens = nltk.word_tokenize(text)\n",
    "    \n",
    "    return tokens"
   ]
  },
  {
   "cell_type": "code",
   "execution_count": 121,
   "id": "3280ff25",
   "metadata": {},
   "outputs": [
    {
     "data": {
      "text/plain": [
       "['recipe',\n",
       " 'title',\n",
       " 'awesome',\n",
       " 'slow',\n",
       " 'cooker',\n",
       " 'pot',\n",
       " 'roast',\n",
       " 'ingredients',\n",
       " '2',\n",
       " '1075',\n",
       " 'ounce',\n",
       " 'cans',\n",
       " 'condensed',\n",
       " 'cream',\n",
       " 'of',\n",
       " 'mushroom',\n",
       " 'soup',\n",
       " '1',\n",
       " '1',\n",
       " 'ounce',\n",
       " 'package',\n",
       " 'dry',\n",
       " 'onion',\n",
       " 'soup',\n",
       " 'mix',\n",
       " '1',\n",
       " '14',\n",
       " 'cups',\n",
       " 'water',\n",
       " '5',\n",
       " '12',\n",
       " 'pounds',\n",
       " 'pot',\n",
       " 'roast',\n",
       " 'instructions',\n",
       " 'in',\n",
       " 'a',\n",
       " 'slow',\n",
       " 'cooker',\n",
       " 'mix',\n",
       " 'cream',\n",
       " 'of',\n",
       " 'mushroom',\n",
       " 'soup',\n",
       " 'dry',\n",
       " 'onion',\n",
       " 'soup',\n",
       " 'mix',\n",
       " 'and',\n",
       " 'water',\n",
       " 'place',\n",
       " 'pot',\n",
       " 'roast',\n",
       " 'in',\n",
       " 'slow',\n",
       " 'cooker',\n",
       " 'and',\n",
       " 'coat',\n",
       " 'with',\n",
       " 'soup',\n",
       " 'mixture',\n",
       " 'cook',\n",
       " 'on',\n",
       " 'high',\n",
       " 'setting',\n",
       " 'for',\n",
       " '3',\n",
       " 'to',\n",
       " '4',\n",
       " 'hours',\n",
       " 'or',\n",
       " 'on',\n",
       " 'low',\n",
       " 'setting',\n",
       " 'for',\n",
       " '8',\n",
       " 'to',\n",
       " '9',\n",
       " 'hours']"
      ]
     },
     "execution_count": 121,
     "metadata": {},
     "output_type": "execute_result"
    }
   ],
   "source": [
    "recipe_data['full_text'] = recipe_data['full_text'].apply(lambda x: tokenization(x))\n",
    "recipe_data['full_text'][0]"
   ]
  },
  {
   "cell_type": "markdown",
   "id": "fc84bd44",
   "metadata": {},
   "source": [
    "## Remove the stop words:"
   ]
  },
  {
   "cell_type": "code",
   "execution_count": 122,
   "id": "79af12b4",
   "metadata": {},
   "outputs": [
    {
     "data": {
      "text/plain": [
       "['i',\n",
       " 'me',\n",
       " 'my',\n",
       " 'myself',\n",
       " 'we',\n",
       " 'our',\n",
       " 'ours',\n",
       " 'ourselves',\n",
       " 'you',\n",
       " \"you're\",\n",
       " \"you've\",\n",
       " \"you'll\",\n",
       " \"you'd\",\n",
       " 'your',\n",
       " 'yours',\n",
       " 'yourself',\n",
       " 'yourselves',\n",
       " 'he',\n",
       " 'him',\n",
       " 'his']"
      ]
     },
     "execution_count": 122,
     "metadata": {},
     "output_type": "execute_result"
    }
   ],
   "source": [
    "stopwords = nltk.corpus.stopwords.words('english')\n",
    "stopwords[:20]"
   ]
  },
  {
   "cell_type": "code",
   "execution_count": 123,
   "id": "61f40b31",
   "metadata": {},
   "outputs": [],
   "source": [
    "def remove_stopwords(text):\n",
    "    return [word for word in text if word not in stopwords]"
   ]
  },
  {
   "cell_type": "code",
   "execution_count": 124,
   "id": "28184e02",
   "metadata": {},
   "outputs": [
    {
     "data": {
      "text/plain": [
       "['recipe',\n",
       " 'title',\n",
       " 'awesome',\n",
       " 'slow',\n",
       " 'cooker',\n",
       " 'pot',\n",
       " 'roast',\n",
       " 'ingredients',\n",
       " '2',\n",
       " '1075',\n",
       " 'ounce',\n",
       " 'cans',\n",
       " 'condensed',\n",
       " 'cream',\n",
       " 'mushroom',\n",
       " 'soup',\n",
       " '1',\n",
       " '1',\n",
       " 'ounce',\n",
       " 'package',\n",
       " 'dry',\n",
       " 'onion',\n",
       " 'soup',\n",
       " 'mix',\n",
       " '1',\n",
       " '14',\n",
       " 'cups',\n",
       " 'water',\n",
       " '5',\n",
       " '12',\n",
       " 'pounds',\n",
       " 'pot',\n",
       " 'roast',\n",
       " 'instructions',\n",
       " 'slow',\n",
       " 'cooker',\n",
       " 'mix',\n",
       " 'cream',\n",
       " 'mushroom',\n",
       " 'soup',\n",
       " 'dry',\n",
       " 'onion',\n",
       " 'soup',\n",
       " 'mix',\n",
       " 'water',\n",
       " 'place',\n",
       " 'pot',\n",
       " 'roast',\n",
       " 'slow',\n",
       " 'cooker',\n",
       " 'coat',\n",
       " 'soup',\n",
       " 'mixture',\n",
       " 'cook',\n",
       " 'high',\n",
       " 'setting',\n",
       " '3',\n",
       " '4',\n",
       " 'hours',\n",
       " 'low',\n",
       " 'setting',\n",
       " '8',\n",
       " '9',\n",
       " 'hours']"
      ]
     },
     "execution_count": 124,
     "metadata": {},
     "output_type": "execute_result"
    }
   ],
   "source": [
    "recipe_data['full_text'] = recipe_data['full_text'].apply(lambda x: remove_stopwords(x))\n",
    "recipe_data['full_text'][0]"
   ]
  },
  {
   "cell_type": "markdown",
   "id": "49032a1e",
   "metadata": {},
   "source": [
    "## Lemmatize:"
   ]
  },
  {
   "cell_type": "code",
   "execution_count": 125,
   "id": "e2777a61",
   "metadata": {},
   "outputs": [],
   "source": [
    "wordnet_lemmatizer = WordNetLemmatizer()\n",
    "\n",
    "def lemmatize(text):\n",
    "    return [wordnet_lemmatizer.lemmatize(word) for word in text]"
   ]
  },
  {
   "cell_type": "code",
   "execution_count": 126,
   "id": "8a9f2ecb",
   "metadata": {},
   "outputs": [
    {
     "data": {
      "text/plain": [
       "['recipe',\n",
       " 'title',\n",
       " 'awesome',\n",
       " 'slow',\n",
       " 'cooker',\n",
       " 'pot',\n",
       " 'roast',\n",
       " 'ingredient',\n",
       " '2',\n",
       " '1075',\n",
       " 'ounce',\n",
       " 'can',\n",
       " 'condensed',\n",
       " 'cream',\n",
       " 'mushroom',\n",
       " 'soup',\n",
       " '1',\n",
       " '1',\n",
       " 'ounce',\n",
       " 'package',\n",
       " 'dry',\n",
       " 'onion',\n",
       " 'soup',\n",
       " 'mix',\n",
       " '1',\n",
       " '14',\n",
       " 'cup',\n",
       " 'water',\n",
       " '5',\n",
       " '12',\n",
       " 'pound',\n",
       " 'pot',\n",
       " 'roast',\n",
       " 'instruction',\n",
       " 'slow',\n",
       " 'cooker',\n",
       " 'mix',\n",
       " 'cream',\n",
       " 'mushroom',\n",
       " 'soup',\n",
       " 'dry',\n",
       " 'onion',\n",
       " 'soup',\n",
       " 'mix',\n",
       " 'water',\n",
       " 'place',\n",
       " 'pot',\n",
       " 'roast',\n",
       " 'slow',\n",
       " 'cooker',\n",
       " 'coat',\n",
       " 'soup',\n",
       " 'mixture',\n",
       " 'cook',\n",
       " 'high',\n",
       " 'setting',\n",
       " '3',\n",
       " '4',\n",
       " 'hour',\n",
       " 'low',\n",
       " 'setting',\n",
       " '8',\n",
       " '9',\n",
       " 'hour']"
      ]
     },
     "execution_count": 126,
     "metadata": {},
     "output_type": "execute_result"
    }
   ],
   "source": [
    "recipe_data['full_text'] = recipe_data['full_text'].apply(lambda x: lemmatize(x))\n",
    "recipe_data['full_text'][0]"
   ]
  },
  {
   "cell_type": "markdown",
   "id": "9c0dfb19",
   "metadata": {},
   "source": [
    "## Check for spelling errors "
   ]
  },
  {
   "cell_type": "code",
   "execution_count": 127,
   "id": "23fdc721",
   "metadata": {},
   "outputs": [
    {
     "name": "stderr",
     "output_type": "stream",
     "text": [
      "[nltk_data] Downloading package words to\n",
      "[nltk_data]     C:\\Users\\angel\\AppData\\Roaming\\nltk_data...\n",
      "[nltk_data]   Package words is already up-to-date!\n"
     ]
    },
    {
     "data": {
      "text/plain": [
       "True"
      ]
     },
     "execution_count": 127,
     "metadata": {},
     "output_type": "execute_result"
    }
   ],
   "source": [
    "nltk.download('words')"
   ]
  },
  {
   "cell_type": "code",
   "execution_count": 128,
   "id": "88ca88f2",
   "metadata": {},
   "outputs": [],
   "source": [
    "# Get the set of English words from the NLTK corpus\n",
    "english_words = set(nltk.corpus.words.words())"
   ]
  },
  {
   "cell_type": "code",
   "execution_count": 129,
   "id": "6f80489d",
   "metadata": {},
   "outputs": [
    {
     "data": {
      "text/plain": [
       "['recipe',\n",
       " 'title',\n",
       " 'awesome',\n",
       " 'slow',\n",
       " 'cooker',\n",
       " 'pot',\n",
       " 'roast',\n",
       " 'ingredient',\n",
       " '2',\n",
       " '1075',\n",
       " 'ounce',\n",
       " 'can',\n",
       " 'condensed',\n",
       " 'cream',\n",
       " 'mushroom',\n",
       " 'soup',\n",
       " '1',\n",
       " '1',\n",
       " 'ounce',\n",
       " 'package',\n",
       " 'dry',\n",
       " 'onion',\n",
       " 'soup',\n",
       " 'mix',\n",
       " '1',\n",
       " '14',\n",
       " 'cup',\n",
       " 'water',\n",
       " '5',\n",
       " '12',\n",
       " 'pound',\n",
       " 'pot',\n",
       " 'roast',\n",
       " 'instruction',\n",
       " 'slow',\n",
       " 'cooker',\n",
       " 'mix',\n",
       " 'cream',\n",
       " 'mushroom',\n",
       " 'soup',\n",
       " 'dry',\n",
       " 'onion',\n",
       " 'soup',\n",
       " 'mix',\n",
       " 'water',\n",
       " 'place',\n",
       " 'pot',\n",
       " 'roast',\n",
       " 'slow',\n",
       " 'cooker',\n",
       " 'coat',\n",
       " 'soup',\n",
       " 'mixture',\n",
       " 'cook',\n",
       " 'high',\n",
       " 'setting',\n",
       " '3',\n",
       " '4',\n",
       " 'hour',\n",
       " 'low',\n",
       " 'setting',\n",
       " '8',\n",
       " '9',\n",
       " 'hour']"
      ]
     },
     "execution_count": 129,
     "metadata": {},
     "output_type": "execute_result"
    }
   ],
   "source": [
    "recipe_data['full_text'][0]"
   ]
  },
  {
   "cell_type": "code",
   "execution_count": 137,
   "id": "7e0038ed",
   "metadata": {},
   "outputs": [],
   "source": [
    "def check_spelling(text):\n",
    "    misspelled_words = [word for word in text if word not in english_words]\n",
    "    misspelled_words = [el for el in misspelled_words if not el.isdigit()]\n",
    "    return misspelled_words"
   ]
  },
  {
   "cell_type": "code",
   "execution_count": 144,
   "id": "452a631f",
   "metadata": {},
   "outputs": [
    {
     "data": {
      "text/plain": [
       "30661"
      ]
     },
     "execution_count": 144,
     "metadata": {},
     "output_type": "execute_result"
    }
   ],
   "source": [
    "wrong_words = set()\n",
    "\n",
    "for row in recipe_data['full_text']:\n",
    "    words = check_spelling(row)\n",
    "    wrong_words.update(words)\n",
    "\n",
    "len(wrong_words)"
   ]
  },
  {
   "cell_type": "code",
   "execution_count": 177,
   "id": "89f460aa",
   "metadata": {},
   "outputs": [],
   "source": [
    "from textblob import TextBlob"
   ]
  },
  {
   "cell_type": "code",
   "execution_count": 182,
   "id": "38894d21",
   "metadata": {},
   "outputs": [
    {
     "name": "stdout",
     "output_type": "stream",
     "text": [
      "if you need more advanced spelling correction capabilities, you might want to explore dedicated spelling correction libraries such as\n"
     ]
    }
   ],
   "source": [
    "sent = TextBlob('if you need more advanced spelling correction capabilqities, you might wtant to explore dedi1cated spelling corffrection libraries such as')\n",
    "\n",
    "print(sent.correct())"
   ]
  },
  {
   "cell_type": "code",
   "execution_count": null,
   "id": "049a4d77",
   "metadata": {},
   "outputs": [],
   "source": []
  }
 ],
 "metadata": {
  "kernelspec": {
   "display_name": "Python 3 (ipykernel)",
   "language": "python",
   "name": "python3"
  },
  "language_info": {
   "codemirror_mode": {
    "name": "ipython",
    "version": 3
   },
   "file_extension": ".py",
   "mimetype": "text/x-python",
   "name": "python",
   "nbconvert_exporter": "python",
   "pygments_lexer": "ipython3",
   "version": "3.9.13"
  }
 },
 "nbformat": 4,
 "nbformat_minor": 5
}
